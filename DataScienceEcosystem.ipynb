{
  "metadata": {
    "kernelspec": {
      "name": "python",
      "display_name": "Python (Pyodide)",
      "language": "python"
    },
    "language_info": {
      "codemirror_mode": {
        "name": "python",
        "version": 3
      },
      "file_extension": ".py",
      "mimetype": "text/x-python",
      "name": "python",
      "nbconvert_exporter": "python",
      "pygments_lexer": "ipython3",
      "version": "3.8"
    }
  },
  "nbformat_minor": 5,
  "nbformat": 4,
  "cells": [
    {
      "id": "1fb2f791-4ced-4832-940e-ee0a7ac78bc9",
      "cell_type": "markdown",
      "source": "# Data Science Tools and Ecosystem",
      "metadata": {}
    },
    {
      "id": "eed52877-79de-4d1e-998c-912623b66147",
      "cell_type": "markdown",
      "source": "In this notebook, Data Science Tools and Ecosystem are summarized.",
      "metadata": {}
    },
    {
      "id": "e26e5027-bc05-49d9-afa2-b329e714c1f6",
      "cell_type": "markdown",
      "source": "Some of the popular languages that Data Scientists use are:\n1. Python  \n2. R  \n3. SQL",
      "metadata": {}
    },
    {
      "id": "278f3935-95e5-4178-93eb-7758ba098a57",
      "cell_type": "markdown",
      "source": "Some of the commonly used libraries used by Data Scientists include:\n1. Pandas  \n2. NumPy  \n3. Matplotlib",
      "metadata": {}
    },
    {
      "id": "528494b8-4911-499a-8891-88800e213645",
      "cell_type": "markdown",
      "source": "| Data Science Tools |\n|--------------------|\n| Jupyter Notebook   |\n| RStudio            |\n| VS Code            |",
      "metadata": {}
    },
    {
      "id": "4e08293f-cd74-4d74-9f82-a35166c0a5f4",
      "cell_type": "markdown",
      "source": "### Below are a few examples of evaluating arithmetic expressions in Python.",
      "metadata": {}
    },
    {
      "id": "fd63902a-53b7-4dc4-9a20-12e5272c455a",
      "cell_type": "code",
      "source": "# This a simple arithmetic expression to multiply then add integers\n(3*4)+5",
      "metadata": {
        "trusted": true
      },
      "outputs": [
        {
          "execution_count": 1,
          "output_type": "execute_result",
          "data": {
            "text/plain": "17"
          },
          "metadata": {}
        }
      ],
      "execution_count": 1
    },
    {
      "id": "506f6fc2-a21c-4041-985b-69aa405a6289",
      "cell_type": "code",
      "source": "# This will convert 200 minutes to hours by dividing by 60\n200 / 60",
      "metadata": {
        "trusted": true
      },
      "outputs": [
        {
          "execution_count": 2,
          "output_type": "execute_result",
          "data": {
            "text/plain": "3.3333333333333335"
          },
          "metadata": {}
        }
      ],
      "execution_count": 2
    },
    {
      "id": "04daae61-faaa-42dc-9dcf-c5a684dd6792",
      "cell_type": "markdown",
      "source": "**Objectives:**\n- List popular languages for Data Science\n- List commonly used libraries in Data Science\n- Create and format markdown cells\n- Perform arithmetic operations using Python\n- Use Jupyter Notebooks effectively",
      "metadata": {}
    },
    {
      "id": "c17251a3-eaf1-4a1e-a80a-11437ed260e5",
      "cell_type": "markdown",
      "source": "## Author  \nBhanu pratap singh",
      "metadata": {}
    },
    {
      "id": "86db0a10-b8bc-4334-a6f1-f06994008256",
      "cell_type": "code",
      "source": "",
      "metadata": {
        "trusted": true
      },
      "outputs": [],
      "execution_count": null
    }
  ]
}
